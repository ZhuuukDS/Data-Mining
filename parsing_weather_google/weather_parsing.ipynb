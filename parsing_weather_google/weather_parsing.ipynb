{
 "cells": [
  {
   "cell_type": "markdown",
   "id": "790125eb-7a0c-4b88-acfa-ce1af20f8e46",
   "metadata": {},
   "source": [
    "## Get Live Weather Updates from Google\n",
    "____"
   ]
  },
  {
   "cell_type": "markdown",
   "id": "699e7b26-ec77-4e44-a4e4-7e1ac8acd9dd",
   "metadata": {},
   "source": [
    "Have you ever thought about making an application where a user gives the name of a city and gets live weather updates about that city as an output?\n",
    "\n",
    "There are many ways to get live weather conditions for any city using the Python programming language. You can either use the weather APIs provided by third-party apps or you can also scrape the live weather data from a particular city.\n",
    "\n",
    "In this notebook I’m going to get live weather updates from any city using Python and BeautifulSoup library.\n",
    "\n",
    "Now we start with importing the necessary Python libraries. After importing the libraries we need to scrape the weather updates of a city by searching about it on Google. Below is how we can do it:"
   ]
  },
  {
   "cell_type": "code",
   "execution_count": null,
   "id": "3a76fc6e-72cf-4f1d-868e-5d5d0ffe72ef",
   "metadata": {},
   "outputs": [],
   "source": [
    "from bs4 import BeautifulSoup\n",
    "import requests\n",
    "headers = {'User-Agent': 'Mozilla/5.0 (Windows NT 10.0; Win64; x64) AppleWebKit/537.36 (KHTML, like Gecko) Chrome/58.0.3029.110 Safari/537.3'}\n",
    "\n",
    "def weather(city):\n",
    "    city=city.replace(\" \",\"+\")\n",
    "    res = requests.get(f'https://www.google.com/search?q={city}&oq={city}&aqs=chrome.0.69i59.2476j0j1&sourceid=chrome&ie=UTF-8',headers=headers)\n",
    "    print(\"Searching......\\n\")\n",
    "    soup = BeautifulSoup(res.text,'lxml') \n",
    "    location = soup.find('div', id='wob_loc').text.strip()  \n",
    "    time = soup.select('#wob_dts')[0].getText().strip()       \n",
    "    info = soup.select('#wob_dc')[0].getText().strip() \n",
    "    weather = soup.select('#wob_tm')[0].getText().strip()\n",
    "    print(location)\n",
    "    print(time)\n",
    "    print(info)\n",
    "    print(weather+\"°C\") \n",
    "\n",
    "city=input(\"Enter the Name of Any City:  \")\n",
    "city=city+\" weather\"\n",
    "\n",
    "weather(city)"
   ]
  },
  {
   "cell_type": "markdown",
   "id": "6fc30c71-fe2d-4b13-b8dd-f349de58f169",
   "metadata": {},
   "source": [
    "### Summary\n",
    "In the above code, we are searching for a city on Google, and then we are scraping the data about that particular city concerning location, time, info, and weather."
   ]
  },
  {
   "cell_type": "code",
   "execution_count": null,
   "id": "c3696066-6859-48a4-9bce-865bae7f14bf",
   "metadata": {},
   "outputs": [],
   "source": []
  }
 ],
 "metadata": {
  "kernelspec": {
   "display_name": "Python 3 (ipykernel)",
   "language": "python",
   "name": "python3"
  },
  "language_info": {
   "codemirror_mode": {
    "name": "ipython",
    "version": 3
   },
   "file_extension": ".py",
   "mimetype": "text/x-python",
   "name": "python",
   "nbconvert_exporter": "python",
   "pygments_lexer": "ipython3",
   "version": "3.9.12"
  }
 },
 "nbformat": 4,
 "nbformat_minor": 5
}
